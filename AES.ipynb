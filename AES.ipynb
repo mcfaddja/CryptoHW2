{
 "cells": [
  {
   "cell_type": "markdown",
   "metadata": {},
   "source": [
    "Encrpyt AES in ECB mode"
   ]
  },
  {
   "cell_type": "code",
   "execution_count": 27,
   "metadata": {
    "collapsed": false
   },
   "outputs": [
    {
     "name": "stdout",
     "output_type": "stream",
     "text": [
      "Encryption time: 0.13 seconds\n"
     ]
    }
   ],
   "source": [
    "from Crypto.Cipher import AES\n",
    "import time\n",
    "startTime = time.time()\n",
    "aes1 = AES.new('0123456789101112', AES.MODE_ECB)\n",
    "text = open('/home/jamster/Desktop/Crypto1 - HW2/kingJames.txt', 'r').read()\n",
    "toAdd = 16 - len(text) % 16\n",
    "text += chr(toAdd) * 8\n",
    "cipher_text = aes1.encrypt(text)\n",
    "f = open('cipherAESecb.txt', 'w')\n",
    "f.write(str(cipher_text))\n",
    "f.close()\n",
    "totalTime = round(time.time() - startTime, 2)\n",
    "myMode = 'encrypt'\n",
    "print('%sion time: %s seconds' % (myMode.title(), totalTime))"
   ]
  },
  {
   "cell_type": "markdown",
   "metadata": {},
   "source": [
    "Decrpyt AES in ECB mode"
   ]
  },
  {
   "cell_type": "code",
   "execution_count": 35,
   "metadata": {
    "collapsed": false
   },
   "outputs": [
    {
     "name": "stdout",
     "output_type": "stream",
     "text": [
      "Decryption time: 0.42 seconds\n"
     ]
    }
   ],
   "source": [
    "from Crypto.Cipher import AES\n",
    "import time\n",
    "startTime = time.time()\n",
    "aes1 = AES.new('0123456789101112', AES.MODE_ECB)\n",
    "cipher_text = open('/home/jamster/Desktop/Crypto1 - HW2/cipherAESecb.txt', 'r').read()\n",
    "toAdd = 16 - len(cipher_text) % 16\n",
    "cipher_text += chr(toAdd) * toAdd\n",
    "text = aes1.decrypt(cipher_text)\n",
    "f = open('text.txt', 'w')\n",
    "f.write(str(text))\n",
    "f.close()\n",
    "totalTime = round(time.time() - startTime, 2)\n",
    "myMode = 'decrypt'\n",
    "print('%sion time: %s seconds' % (myMode.title(), totalTime))"
   ]
  },
  {
   "cell_type": "markdown",
   "metadata": {},
   "source": [
    "Encrypt AES in CTR"
   ]
  },
  {
   "cell_type": "code",
   "execution_count": 33,
   "metadata": {
    "collapsed": false
   },
   "outputs": [
    {
     "name": "stdout",
     "output_type": "stream",
     "text": [
      "Encryption time: 0.18 seconds\n"
     ]
    }
   ],
   "source": [
    "from Crypto.Cipher import AES\n",
    "from Crypto.Util import Counter\n",
    "startTime = time.time()\n",
    "ctr = Counter.new(128)\n",
    "des1 = AES.new('0123456789101112', AES.MODE_CTR, counter=ctr)\n",
    "text = open('/home/jamster/Desktop/Crypto1 - HW2/kingJames.txt', 'r').read()\n",
    "toAdd = 16 - len(text) % 16\n",
    "text += chr(toAdd) * 8\n",
    "cipher_text = des1.encrypt(text)\n",
    "f = open('cipherDESctr.txt', 'w')\n",
    "f.write(str(cipher_text))\n",
    "f.close()\n",
    "totalTime = round(time.time() - startTime, 2)\n",
    "myMode = 'encrypt'\n",
    "print('%sion time: %s seconds' % (myMode.title(), totalTime))"
   ]
  },
  {
   "cell_type": "markdown",
   "metadata": {},
   "source": [
    "Decrypt DEC in CTR"
   ]
  },
  {
   "cell_type": "code",
   "execution_count": 37,
   "metadata": {
    "collapsed": false
   },
   "outputs": [
    {
     "name": "stdout",
     "output_type": "stream",
     "text": [
      "Decryption time: 1.09 seconds\n"
     ]
    }
   ],
   "source": [
    "from Crypto.Cipher import AES\n",
    "from Crypto.Util import Counter\n",
    "import time\n",
    "startTime = time.time()\n",
    "ctr = Counter.new(64)\n",
    "aes1 = DES3.new('0123456789101112', AES.MODE_CTR, counter=ctr)\n",
    "cipher_text = open('/home/jamster/Desktop/Crypto1 - HW2/cipherDESctr.txt', 'r').read()\n",
    "#toAdd = 8 - len(cipher_text) % 8\n",
    "#cipher_text += chr(toAdd) * toAdd\n",
    "text = aes1.decrypt(cipher_text)\n",
    "f = open('text.txt', 'w')\n",
    "f.write(str(text))\n",
    "f.close()\n",
    "totalTime = round(time.time() - startTime, 2)\n",
    "myMode = 'decrypt'\n",
    "print('%sion time: %s seconds' % (myMode.title(), totalTime))"
   ]
  },
  {
   "cell_type": "code",
   "execution_count": null,
   "metadata": {
    "collapsed": true
   },
   "outputs": [],
   "source": []
  }
 ],
 "metadata": {
  "anaconda-cloud": {},
  "kernelspec": {
   "display_name": "Python [conda root]",
   "language": "python",
   "name": "conda-root-py"
  },
  "language_info": {
   "codemirror_mode": {
    "name": "ipython",
    "version": 3
   },
   "file_extension": ".py",
   "mimetype": "text/x-python",
   "name": "python",
   "nbconvert_exporter": "python",
   "pygments_lexer": "ipython3",
   "version": "3.5.2"
  }
 },
 "nbformat": 4,
 "nbformat_minor": 1
}
