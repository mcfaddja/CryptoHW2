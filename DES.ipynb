{
 "cells": [
  {
   "cell_type": "markdown",
   "metadata": {},
   "source": [
    "Encrpyt DES in ECB mode"
   ]
  },
  {
   "cell_type": "code",
   "execution_count": 23,
   "metadata": {
    "collapsed": false
   },
   "outputs": [
    {
     "name": "stdout",
     "output_type": "stream",
     "text": [
      "Encryption time: 0.2 seconds\n"
     ]
    }
   ],
   "source": [
    "from Crypto.Cipher import DES\n",
    "import time\n",
    "startTime = time.time()\n",
    "des = DES.new('01234567', DES.MODE_ECB)\n",
    "text = open('/home/jamster/Desktop/Crypto1 - HW2/kingJames.txt', 'r').read()\n",
    "cipher_text = des.encrypt(text)\n",
    "f = open('cipherDESecb.txt', 'w')\n",
    "f.write(str(cipher_text))\n",
    "f.close()\n",
    "totalTime = round(time.time() - startTime, 2)\n",
    "myMode = 'encrypt'\n",
    "print('%sion time: %s seconds' % (myMode.title(), totalTime))"
   ]
  },
  {
   "cell_type": "markdown",
   "metadata": {},
   "source": [
    "Decrpyt DES in ECB mode"
   ]
  },
  {
   "cell_type": "code",
   "execution_count": 24,
   "metadata": {
    "collapsed": false
   },
   "outputs": [
    {
     "name": "stdout",
     "output_type": "stream",
     "text": [
      "Decryption time: 0.43 seconds\n"
     ]
    }
   ],
   "source": [
    "from Crypto.Cipher import DES\n",
    "import time\n",
    "startTime = time.time()\n",
    "des = DES.new('01234567', DES.MODE_ECB)\n",
    "cipher_text = open('/home/jamster/Desktop/Crypto1 - HW2/cipherDESecb.txt', 'r').read()\n",
    "toAdd = 8 - len(cipher_text) % 8\n",
    "cipher_text += chr(toAdd) * toAdd\n",
    "text = des.decrypt(cipher_text)\n",
    "f = open('text.txt', 'w')\n",
    "f.write(str(text))\n",
    "f.close()\n",
    "totalTime = round(time.time() - startTime, 2)\n",
    "myMode = 'decrypt'\n",
    "print('%sion time: %s seconds' % (myMode.title(), totalTime))"
   ]
  },
  {
   "cell_type": "markdown",
   "metadata": {},
   "source": [
    "Encrypt DES in CTR"
   ]
  },
  {
   "cell_type": "code",
   "execution_count": 76,
   "metadata": {
    "collapsed": false
   },
   "outputs": [
    {
     "name": "stdout",
     "output_type": "stream",
     "text": [
      "Encryption time: 0.18 seconds\n"
     ]
    }
   ],
   "source": [
    "from Crypto.Cipher import DES\n",
    "from Crypto.Util import Counter\n",
    "startTime = time.time()\n",
    "ctr = Counter.new(64)\n",
    "des1 = DES.new('01234567', DES.MODE_CTR, counter=ctr)\n",
    "text = open('/home/jamster/Desktop/Crypto1 - HW2/kingJames.txt', 'r').read()\n",
    "toAdd = 8 - len(text) % 8\n",
    "text += chr(toAdd) * toAdd\n",
    "cipher_text = des1.encrypt(text)\n",
    "f = open('cipherDESctr.txt', 'w')\n",
    "f.write(str(cipher_text))\n",
    "f.close()\n",
    "totalTime = round(time.time() - startTime, 2)\n",
    "myMode = 'encrypt'\n",
    "print('%sion time: %s seconds' % (myMode.title(), totalTime))"
   ]
  },
  {
   "cell_type": "markdown",
   "metadata": {},
   "source": [
    "Decrypt DEC in CTR"
   ]
  },
  {
   "cell_type": "code",
   "execution_count": 77,
   "metadata": {
    "collapsed": false
   },
   "outputs": [
    {
     "name": "stdout",
     "output_type": "stream",
     "text": [
      "Decryption time: 0.51 seconds\n"
     ]
    }
   ],
   "source": [
    "from Crypto.Cipher import DES\n",
    "from Crypto.Util import Counter\n",
    "import time\n",
    "startTime = time.time()\n",
    "ctr = Counter.new(64)\n",
    "des1 = DES.new('01234567', DES.MODE_CTR, counter=ctr)\n",
    "cipher_text = open('/home/jamster/Desktop/Crypto1 - HW2/cipherDESctr.txt', 'r').read()\n",
    "#toAdd = 8 - len(cipher_text) % 8\n",
    "#cipher_text += chr(toAdd) * toAdd\n",
    "text = des1.decrypt(cipher_text)\n",
    "f = open('text.txt', 'w')\n",
    "f.write(str(text))\n",
    "f.close()\n",
    "totalTime = round(time.time() - startTime, 2)\n",
    "myMode = 'decrypt'\n",
    "print('%sion time: %s seconds' % (myMode.title(), totalTime))"
   ]
  },
  {
   "cell_type": "code",
   "execution_count": null,
   "metadata": {
    "collapsed": true
   },
   "outputs": [],
   "source": []
  }
 ],
 "metadata": {
  "anaconda-cloud": {},
  "kernelspec": {
   "display_name": "Python [conda root]",
   "language": "python",
   "name": "conda-root-py"
  },
  "language_info": {
   "codemirror_mode": {
    "name": "ipython",
    "version": 3
   },
   "file_extension": ".py",
   "mimetype": "text/x-python",
   "name": "python",
   "nbconvert_exporter": "python",
   "pygments_lexer": "ipython3",
   "version": "3.5.2"
  }
 },
 "nbformat": 4,
 "nbformat_minor": 1
}
