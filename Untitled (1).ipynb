{
 "cells": [
  {
   "cell_type": "markdown",
   "metadata": {},
   "source": [
    "Encrpyt DES in ECB mode"
   ]
  },
  {
   "cell_type": "code",
   "execution_count": 23,
   "metadata": {
    "collapsed": false
   },
   "outputs": [
    {
     "name": "stdout",
     "output_type": "stream",
     "text": [
      "Encryption time: 0.2 seconds\n"
     ]
    }
   ],
   "source": [
    "from Crypto.Cipher import DES\n",
    "import time\n",
    "startTime = time.time()\n",
    "des = DES.new('01234567', DES.MODE_ECB)\n",
    "text = open('/home/jamster/Desktop/Crypto1 - HW2/kingJames.txt', 'r').read()\n",
    "cipher_text = des.encrypt(text)\n",
    "f = open('cipherDESecb.txt', 'w')\n",
    "f.write(str(cipher_text))\n",
    "f.close()\n",
    "totalTime = round(time.time() - startTime, 2)\n",
    "myMode = 'encrypt'\n",
    "print('%sion time: %s seconds' % (myMode.title(), totalTime))"
   ]
  },
  {
   "cell_type": "markdown",
   "metadata": {},
   "source": [
    "Decrpyt DES in ECB mode"
   ]
  },
  {
   "cell_type": "code",
   "execution_count": 24,
   "metadata": {
    "collapsed": false
   },
   "outputs": [
    {
     "name": "stdout",
     "output_type": "stream",
     "text": [
      "Decryption time: 0.43 seconds\n"
     ]
    }
   ],
   "source": [
    "from Crypto.Cipher import DES\n",
    "import time\n",
    "startTime = time.time()\n",
    "des = DES.new('01234567', DES.MODE_ECB)\n",
    "cipher_text = open('/home/jamster/Desktop/Crypto1 - HW2/cipherDESecb.txt', 'r').read()\n",
    "toAdd = 8 - len(cipher_text) % 8\n",
    "cipher_text += chr(toAdd) * toAdd\n",
    "text = des.decrypt(cipher_text)\n",
    "f = open('text.txt', 'w')\n",
    "f.write(str(text))\n",
    "f.close()\n",
    "totalTime = round(time.time() - startTime, 2)\n",
    "myMode = 'decrypt'\n",
    "print('%sion time: %s seconds' % (myMode.title(), totalTime))"
   ]
  },
  {
   "cell_type": "markdown",
   "metadata": {},
   "source": [
    "Encrypt DES in CTR"
   ]
  },
  {
   "cell_type": "code",
   "execution_count": 43,
   "metadata": {
    "collapsed": false
   },
   "outputs": [
    {
     "ename": "TypeError",
     "evalue": "CTR counter function returned bytes not of length 8",
     "output_type": "error",
     "traceback": [
      "\u001b[0;31m---------------------------------------------------------------------------\u001b[0m",
      "\u001b[0;31mTypeError\u001b[0m                                 Traceback (most recent call last)",
      "\u001b[0;32m<ipython-input-43-cadf9e00a0ac>\u001b[0m in \u001b[0;36m<module>\u001b[0;34m()\u001b[0m\n\u001b[1;32m     16\u001b[0m \u001b[0mtoAdd\u001b[0m \u001b[0;34m=\u001b[0m \u001b[0;36m8\u001b[0m \u001b[0;34m-\u001b[0m \u001b[0mlen\u001b[0m\u001b[0;34m(\u001b[0m\u001b[0mtext\u001b[0m\u001b[0;34m)\u001b[0m \u001b[0;34m%\u001b[0m \u001b[0;36m8\u001b[0m\u001b[0;34m\u001b[0m\u001b[0m\n\u001b[1;32m     17\u001b[0m \u001b[0mtext\u001b[0m \u001b[0;34m+=\u001b[0m \u001b[0mchr\u001b[0m\u001b[0;34m(\u001b[0m\u001b[0mtoAdd\u001b[0m\u001b[0;34m)\u001b[0m \u001b[0;34m*\u001b[0m \u001b[0mtoAdd\u001b[0m\u001b[0;34m\u001b[0m\u001b[0m\n\u001b[0;32m---> 18\u001b[0;31m \u001b[0mcipher_text\u001b[0m \u001b[0;34m=\u001b[0m \u001b[0mdes1\u001b[0m\u001b[0;34m.\u001b[0m\u001b[0mencrypt\u001b[0m\u001b[0;34m(\u001b[0m\u001b[0mtext\u001b[0m\u001b[0;34m)\u001b[0m\u001b[0;34m\u001b[0m\u001b[0m\n\u001b[0m\u001b[1;32m     19\u001b[0m \u001b[0mf\u001b[0m \u001b[0;34m=\u001b[0m \u001b[0mopen\u001b[0m\u001b[0;34m(\u001b[0m\u001b[0;34m'cipherDESctr.txt'\u001b[0m\u001b[0;34m,\u001b[0m \u001b[0;34m'w'\u001b[0m\u001b[0;34m)\u001b[0m\u001b[0;34m\u001b[0m\u001b[0m\n\u001b[1;32m     20\u001b[0m \u001b[0mf\u001b[0m\u001b[0;34m.\u001b[0m\u001b[0mwrite\u001b[0m\u001b[0;34m(\u001b[0m\u001b[0mstr\u001b[0m\u001b[0;34m(\u001b[0m\u001b[0mcipher_text\u001b[0m\u001b[0;34m)\u001b[0m\u001b[0;34m)\u001b[0m\u001b[0;34m\u001b[0m\u001b[0m\n",
      "\u001b[0;32m/home/jamster/anaconda3/lib/python3.5/site-packages/Crypto/Cipher/blockalgo.py\u001b[0m in \u001b[0;36mencrypt\u001b[0;34m(self, plaintext)\u001b[0m\n\u001b[1;32m    242\u001b[0m             \u001b[0;32mreturn\u001b[0m \u001b[0mres\u001b[0m\u001b[0;34m\u001b[0m\u001b[0m\n\u001b[1;32m    243\u001b[0m \u001b[0;34m\u001b[0m\u001b[0m\n\u001b[0;32m--> 244\u001b[0;31m         \u001b[0;32mreturn\u001b[0m \u001b[0mself\u001b[0m\u001b[0;34m.\u001b[0m\u001b[0m_cipher\u001b[0m\u001b[0;34m.\u001b[0m\u001b[0mencrypt\u001b[0m\u001b[0;34m(\u001b[0m\u001b[0mplaintext\u001b[0m\u001b[0;34m)\u001b[0m\u001b[0;34m\u001b[0m\u001b[0m\n\u001b[0m\u001b[1;32m    245\u001b[0m \u001b[0;34m\u001b[0m\u001b[0m\n\u001b[1;32m    246\u001b[0m     \u001b[0;32mdef\u001b[0m \u001b[0mdecrypt\u001b[0m\u001b[0;34m(\u001b[0m\u001b[0mself\u001b[0m\u001b[0;34m,\u001b[0m \u001b[0mciphertext\u001b[0m\u001b[0;34m)\u001b[0m\u001b[0;34m:\u001b[0m\u001b[0;34m\u001b[0m\u001b[0m\n",
      "\u001b[0;31mTypeError\u001b[0m: CTR counter function returned bytes not of length 8"
     ]
    }
   ],
   "source": [
    "from Crypto.Cipher import DES\n",
    "from Crypto.Util import Counter\n",
    "from Crypto.Random import get_random_bytes\n",
    "from Crypto.Util.number import bytes_to_long, long_to_bytes\n",
    "import time\n",
    "startTime = time.time()\n",
    "class MyCounter(object):\n",
    "        def __init__(self, nonce):\n",
    "            self.c = (bytes_to_long(nonce) << 64)\n",
    "        def __call__(self):\n",
    "            self.c += 1\n",
    "            return long_to_bytes(self.c)\n",
    "nonce = get_random_bytes(8)\n",
    "des1 = DES.new('01234567', DES.MODE_CTR, counter=MyCounter(nonce))\n",
    "text = open('/home/jamster/Desktop/Crypto1 - HW2/kingJames.txt', 'r').read()\n",
    "toAdd = 8 - len(text) % 8\n",
    "text += chr(toAdd) * toAdd\n",
    "cipher_text = des1.encrypt(text)\n",
    "f = open('cipherDESctr.txt', 'w')\n",
    "f.write(str(cipher_text))\n",
    "f.close()\n",
    "totalTime = round(time.time() - startTime, 2)\n",
    "myMode = 'encrypt'\n",
    "print('%sion time: %s seconds' % (myMode.title(), totalTime))"
   ]
  },
  {
   "cell_type": "code",
   "execution_count": 44,
   "metadata": {
    "collapsed": false
   },
   "outputs": [
    {
     "name": "stdout",
     "output_type": "stream",
     "text": [
      "Encryption time: 0.17 seconds\n"
     ]
    }
   ],
   "source": [
    "from Crypto.Cipher import DES\n",
    "from Crypto.Util import Counter\n",
    "startTime = time.time()\n",
    "ctr = Counter.new(64)\n",
    "des1 = DES.new('01234567', DES.MODE_CTR, counter=ctr)\n",
    "text = open('/home/jamster/Desktop/Crypto1 - HW2/kingJames.txt', 'r').read()\n",
    "toAdd = 8 - len(text) % 8\n",
    "text += chr(toAdd) * toAdd\n",
    "cipher_text = des1.encrypt(text)\n",
    "f = open('cipherDESctr.txt', 'w')\n",
    "f.write(str(cipher_text))\n",
    "f.close()\n",
    "totalTime = round(time.time() - startTime, 2)\n",
    "myMode = 'encrypt'\n",
    "print('%sion time: %s seconds' % (myMode.title(), totalTime))"
   ]
  },
  {
   "cell_type": "code",
   "execution_count": null,
   "metadata": {
    "collapsed": true
   },
   "outputs": [],
   "source": []
  }
 ],
 "metadata": {
  "anaconda-cloud": {},
  "kernelspec": {
   "display_name": "Python [conda root]",
   "language": "python",
   "name": "conda-root-py"
  },
  "language_info": {
   "codemirror_mode": {
    "name": "ipython",
    "version": 3
   },
   "file_extension": ".py",
   "mimetype": "text/x-python",
   "name": "python",
   "nbconvert_exporter": "python",
   "pygments_lexer": "ipython3",
   "version": "3.5.2"
  }
 },
 "nbformat": 4,
 "nbformat_minor": 1
}
