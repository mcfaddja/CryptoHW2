{
 "cells": [
  {
   "cell_type": "markdown",
   "metadata": {},
   "source": [
    "Encrpyt 3DES in ECB mode"
   ]
  },
  {
   "cell_type": "code",
   "execution_count": 3,
   "metadata": {
    "collapsed": false
   },
   "outputs": [
    {
     "name": "stdout",
     "output_type": "stream",
     "text": [
      "Encryption time: 0.35 seconds\n"
     ]
    }
   ],
   "source": [
    "from Crypto.Cipher import DES3\n",
    "import time\n",
    "startTime = time.time()\n",
    "des = DES3.new('0123456789101112', DES.MODE_ECB)\n",
    "text = open('/home/jamster/Desktop/Crypto1 - HW2/kingJames.txt', 'r').read()\n",
    "cipher_text = des.encrypt(text)\n",
    "f = open('cipherDES3ecb.txt', 'w')\n",
    "f.write(str(cipher_text))\n",
    "f.close()\n",
    "totalTime = round(time.time() - startTime, 2)\n",
    "myMode = 'encrypt'\n",
    "print('%sion time: %s seconds' % (myMode.title(), totalTime))"
   ]
  },
  {
   "cell_type": "markdown",
   "metadata": {},
   "source": [
    "Decrpyt 3DES in ECB mode"
   ]
  },
  {
   "cell_type": "code",
   "execution_count": 5,
   "metadata": {
    "collapsed": false
   },
   "outputs": [
    {
     "name": "stdout",
     "output_type": "stream",
     "text": [
      "Decryption time: 0.82 seconds\n"
     ]
    }
   ],
   "source": [
    "from Crypto.Cipher import DES3\n",
    "import time\n",
    "startTime = time.time()\n",
    "des = DES3.new('0123456789101112', DES.MODE_ECB)\n",
    "cipher_text = open('/home/jamster/Desktop/Crypto1 - HW2/cipherDESecb.txt', 'r').read()\n",
    "toAdd = 8 - len(cipher_text) % 8\n",
    "cipher_text += chr(toAdd) * toAdd\n",
    "text = des.decrypt(cipher_text)\n",
    "f = open('text.txt', 'w')\n",
    "f.write(str(text))\n",
    "f.close()\n",
    "totalTime = round(time.time() - startTime, 2)\n",
    "myMode = 'decrypt'\n",
    "print('%sion time: %s seconds' % (myMode.title(), totalTime))"
   ]
  },
  {
   "cell_type": "markdown",
   "metadata": {},
   "source": [
    "Encrypt 3DES in CTR"
   ]
  },
  {
   "cell_type": "code",
   "execution_count": 8,
   "metadata": {
    "collapsed": false
   },
   "outputs": [
    {
     "name": "stdout",
     "output_type": "stream",
     "text": [
      "Encryption time: 0.33 seconds\n"
     ]
    }
   ],
   "source": [
    "from Crypto.Cipher import DES3\n",
    "from Crypto.Util import Counter\n",
    "startTime = time.time()\n",
    "ctr = Counter.new(64)\n",
    "des1 = DES3.new('0123456789101112', DES.MODE_CTR, counter=ctr)\n",
    "text = open('/home/jamster/Desktop/Crypto1 - HW2/kingJames.txt', 'r').read()\n",
    "toAdd = 8 - len(text) % 8\n",
    "text += chr(toAdd) * toAdd\n",
    "cipher_text = des1.encrypt(text)\n",
    "f = open('cipher3DESctr.txt', 'w')\n",
    "f.write(str(cipher_text))\n",
    "f.close()\n",
    "totalTime = round(time.time() - startTime, 2)\n",
    "myMode = 'encrypt'\n",
    "print('%sion time: %s seconds' % (myMode.title(), totalTime))"
   ]
  },
  {
   "cell_type": "markdown",
   "metadata": {},
   "source": [
    "Decrypt 3DES in CTR"
   ]
  },
  {
   "cell_type": "code",
   "execution_count": 9,
   "metadata": {
    "collapsed": false
   },
   "outputs": [
    {
     "name": "stdout",
     "output_type": "stream",
     "text": [
      "Decryption time: 0.86 seconds\n"
     ]
    }
   ],
   "source": [
    "from Crypto.Cipher import DES3\n",
    "from Crypto.Util import Counter\n",
    "import time\n",
    "startTime = time.time()\n",
    "ctr = Counter.new(64)\n",
    "des1 = DES3.new('0123456789101112', DES.MODE_CTR, counter=ctr)\n",
    "cipher_text = open('/home/jamster/Desktop/Crypto1 - HW2/cipher3DESctr.txt', 'r').read()\n",
    "#toAdd = 8 - len(cipher_text) % 8\n",
    "#cipher_text += chr(toAdd) * toAdd\n",
    "text = des1.decrypt(cipher_text)\n",
    "f = open('text.txt', 'w')\n",
    "f.write(str(text))\n",
    "f.close()\n",
    "totalTime = round(time.time() - startTime, 2)\n",
    "myMode = 'decrypt'\n",
    "print('%sion time: %s seconds' % (myMode.title(), totalTime))"
   ]
  },
  {
   "cell_type": "code",
   "execution_count": null,
   "metadata": {
    "collapsed": true
   },
   "outputs": [],
   "source": []
  }
 ],
 "metadata": {
  "anaconda-cloud": {},
  "kernelspec": {
   "display_name": "Python [conda root]",
   "language": "python",
   "name": "conda-root-py"
  },
  "language_info": {
   "codemirror_mode": {
    "name": "ipython",
    "version": 3
   },
   "file_extension": ".py",
   "mimetype": "text/x-python",
   "name": "python",
   "nbconvert_exporter": "python",
   "pygments_lexer": "ipython3",
   "version": "3.5.2"
  }
 },
 "nbformat": 4,
 "nbformat_minor": 1
}
